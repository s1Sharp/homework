{
 "cells": [
  {
   "cell_type": "code",
   "execution_count": 94,
   "metadata": {},
   "outputs": [],
   "source": [
    "import numpy as np\n",
    "import random"
   ]
  },
  {
   "cell_type": "code",
   "execution_count": 95,
   "metadata": {},
   "outputs": [],
   "source": [
    "def linspace(start, stop, num=50, endpoint=True):\n",
    "    num = int(num)\n",
    "    start = start * 1.\n",
    "    stop = stop * 1.\n",
    "\n",
    "    if num == 1:\n",
    "        yield stop\n",
    "        return\n",
    "    if endpoint:\n",
    "        step = (stop - start) / (num - 1)\n",
    "    else:\n",
    "        step = (stop - start) / num\n",
    "\n",
    "    for i in range(num):\n",
    "        yield start + step * i\n",
    "\n",
    "def matmult(a,b):\n",
    "    zip_b = zip(*b)\n",
    "    zip_b = list(zip_b)\n",
    "    return [[sum(ele_a*ele_b for ele_a, ele_b in zip(row_a, col_b)) \n",
    "             for col_b in zip_b] for row_a in a]"
   ]
  },
  {
   "cell_type": "code",
   "execution_count": 103,
   "metadata": {},
   "outputs": [],
   "source": [
    "import time\n",
    "class Catchtime(object):\n",
    "\n",
    "    def __init__(self, s):\n",
    "        self.s = s\n",
    "\n",
    "    def __enter__(self):\n",
    "        self.ex = False\n",
    "        self.t = time.time()\n",
    "        return self\n",
    "\n",
    "    def __exit__(self, type, value, traceback):\n",
    "        self.ex = True\n",
    "        self.t = time.time() - self.t\n",
    "    \n",
    "    def __str__(self):\n",
    "        if not self.ex:\n",
    "            diff = time.time() - self.t\n",
    "        else:\n",
    "            diff = self.t\n",
    "        return f'Catchtime for {self.s}: {diff:.8f}'"
   ]
  },
  {
   "cell_type": "markdown",
   "metadata": {},
   "source": [
    "# Task1"
   ]
  },
  {
   "cell_type": "code",
   "execution_count": 97,
   "metadata": {},
   "outputs": [],
   "source": [
    "def task1_np(size_N):\n",
    "    a1 = np.linspace(0, 100, size_N)\n",
    "    a2 = np.linspace(0, 1, size_N)\n",
    "\n",
    "    return a1 + a2\n",
    "\n",
    "def task1_pure(size_N):\n",
    "    a1 = list(linspace(0, 100, size_N))\n",
    "    a2 = list(linspace(0, 1, size_N))\n",
    "    \n",
    "    return [x + y for x,y in zip(a1, a2)]"
   ]
  },
  {
   "cell_type": "markdown",
   "metadata": {},
   "source": [
    "# Task2"
   ]
  },
  {
   "cell_type": "code",
   "execution_count": 98,
   "metadata": {},
   "outputs": [],
   "source": [
    "def task2_np(m1_size_I, m1_size_J, m2_size_I, m2_size_J, size_N):\n",
    "    a1 = np.linspace(0, 100, size_N)\n",
    "    a2 = np.linspace(0, 1, size_N)\n",
    "\n",
    "    m1 = np.array([np.random.choice(a1, size=m1_size_I, replace=True) for i in range(m1_size_J)])\n",
    "    m2 = np.array([np.random.choice(a2, size=m2_size_J, replace=True) for i in range(m2_size_I)]).T\n",
    "\n",
    "    return np.dot(m1, m2)\n",
    "\n",
    "def task2_pure(m1_size_I, m1_size_J, m2_size_I, m2_size_J, size_N):\n",
    "    a1 = list(linspace(0, 100, size_N))\n",
    "    a2 = list(linspace(0, 1, size_N))\n",
    "\n",
    "    m1 = []\n",
    "    for m1_J in range(m1_size_J):\n",
    "        m1.append(list())\n",
    "        for m1_I in range(m1_size_I):\n",
    "            m1[m1_J].append(random.choice(a1))\n",
    "    m2 = []\n",
    "    for m2_J in range(m2_size_J):\n",
    "        m2.append(list())\n",
    "        for m2_I in range(m2_size_I):\n",
    "            m2[m2_J].append(random.choice(a2))\n",
    "    return matmult(m1, m2)\n"
   ]
  },
  {
   "cell_type": "code",
   "execution_count": 104,
   "metadata": {},
   "outputs": [
    {
     "name": "stdout",
     "output_type": "stream",
     "text": [
      "Catchtime for t1_pure: 4.30000806\n",
      "Catchtime for t1_np: 0.21000791\n",
      "Catchtime for t2_pure: 7.29458714\n",
      "Catchtime for t2_np: 0.02800798\n"
     ]
    }
   ],
   "source": [
    "from timeit import default_timer as timer\n",
    "import numpy as np\n",
    "import itertools\n",
    "\n",
    "repeat_Task1 = 1000\n",
    "size_N = 1000\n",
    "m1_size_I, m1_size_J, m2_size_I, m2_size_J = (100, 200, 200, 100)\n",
    "\n",
    "with Catchtime('t1_pure') as t1_pure:\n",
    "    for _ in range(repeat_Task1):\n",
    "        task1_pure(size_N)\n",
    "    print(t1_pure)\n",
    "\n",
    "with Catchtime('t1_np') as t1_np:\n",
    "    for _ in range(repeat_Task1):\n",
    "        task1_np(size_N)\n",
    "    print(t1_np)\n",
    "\n",
    "with Catchtime('t2_pure') as t2_pure:\n",
    "    task2_pure(m1_size_I, m1_size_J, m2_size_I, m2_size_J, size_N)\n",
    "    print(t2_pure)\n",
    "\n",
    "with Catchtime('t2_np') as t2_np:\n",
    "    task2_np(m1_size_I, m1_size_J, m2_size_I, m2_size_J, size_N)\n",
    "    print(t2_np)"
   ]
  }
 ],
 "metadata": {
  "kernelspec": {
   "display_name": "Python 3.9.12 ('env': venv)",
   "language": "python",
   "name": "python3"
  },
  "language_info": {
   "codemirror_mode": {
    "name": "ipython",
    "version": 3
   },
   "file_extension": ".py",
   "mimetype": "text/x-python",
   "name": "python",
   "nbconvert_exporter": "python",
   "pygments_lexer": "ipython3",
   "version": "3.10.5"
  },
  "orig_nbformat": 4,
  "vscode": {
   "interpreter": {
    "hash": "4b62256f77dd50a25fd76e284dc3ae8249ddb57b0b8fd0486c33ab0ae11f386c"
   }
  }
 },
 "nbformat": 4,
 "nbformat_minor": 2
}
