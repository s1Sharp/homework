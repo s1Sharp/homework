{
 "cells": [
  {
   "cell_type": "code",
   "execution_count": 307,
   "metadata": {},
   "outputs": [],
   "source": [
    "from scipy import integrate\n",
    "from math import pow, isclose\n",
    "from numpy import linspace, vectorize, ndarray\n",
    "from numpy import array as np_array"
   ]
  },
  {
   "cell_type": "code",
   "execution_count": 301,
   "metadata": {},
   "outputs": [],
   "source": [
    "from typing import Final\n",
    "lhs: Final[float] = 0.0\n",
    "rhs: Final[float] = 5.0\n",
    "CONST_REAL_ANSWER: Final[float] = 0.655406852577098\n",
    "x_dist: Final[ndarray] = linspace(lhs, rhs, 2**20+1)"
   ]
  },
  {
   "cell_type": "code",
   "execution_count": 302,
   "metadata": {},
   "outputs": [],
   "source": [
    "f = lambda x: x/((x**4) + (3*x**2) + 2)"
   ]
  },
  {
   "cell_type": "code",
   "execution_count": 303,
   "metadata": {},
   "outputs": [],
   "source": [
    "def check_is_close(method, value, CONST_REAL_ANSWER, accur=1e-7):\n",
    "    return str(accur), isclose(2 * value, CONST_REAL_ANSWER, rel_tol=accur), str(method), value"
   ]
  },
  {
   "cell_type": "code",
   "execution_count": 304,
   "metadata": {},
   "outputs": [],
   "source": [
    "methods = {\n",
    "    'quad': integrate.quad,\n",
    "    'trapezoid': integrate.trapezoid,\n",
    "    'simpson': integrate.simpson,\n",
    "    'romb': integrate.romb,\n",
    "}"
   ]
  },
  {
   "cell_type": "code",
   "execution_count": 306,
   "metadata": {},
   "outputs": [
    {
     "name": "stdout",
     "output_type": "stream",
     "text": [
      "('0.01', True, 'quad', 0.32770342628854815)\n",
      "('0.01', True, 'trapezoid', 0.3277034262875941)\n",
      "('0.01', True, 'simpson', 0.3277034262885491)\n",
      "('0.01', False, 'romb', 2621440.0)\n",
      "('1e-09', True, 'quad', 0.32770342628854815)\n",
      "('1e-09', True, 'trapezoid', 0.3277034262875941)\n",
      "('1e-09', True, 'simpson', 0.3277034262885491)\n",
      "('1e-09', False, 'romb', 2621440.0)\n",
      "('1e-11', True, 'quad', 0.32770342628854815)\n",
      "('1e-11', True, 'trapezoid', 0.3277034262875941)\n",
      "('1e-11', True, 'simpson', 0.3277034262885491)\n",
      "('1e-11', False, 'romb', 2621440.0)\n",
      "('1e-12', True, 'quad', 0.32770342628854815)\n",
      "('1e-12', False, 'trapezoid', 0.3277034262875941)\n",
      "('1e-12', True, 'simpson', 0.3277034262885491)\n",
      "('1e-12', False, 'romb', 2621440.0)\n",
      "('1e-13', True, 'quad', 0.32770342628854815)\n",
      "('1e-13', False, 'trapezoid', 0.3277034262875941)\n",
      "('1e-13', True, 'simpson', 0.3277034262885491)\n",
      "('1e-13', False, 'romb', 2621440.0)\n",
      "('1e-14', True, 'quad', 0.32770342628854815)\n",
      "('1e-14', False, 'trapezoid', 0.3277034262875941)\n",
      "('1e-14', True, 'simpson', 0.3277034262885491)\n",
      "('1e-14', False, 'romb', 2621440.0)\n",
      "('1e-15', False, 'quad', 0.32770342628854815)\n",
      "('1e-15', False, 'trapezoid', 0.3277034262875941)\n",
      "('1e-15', True, 'simpson', 0.3277034262885491)\n",
      "('1e-15', False, 'romb', 2621440.0)\n",
      "('1e-16', False, 'quad', 0.32770342628854815)\n",
      "('1e-16', False, 'trapezoid', 0.3277034262875941)\n",
      "('1e-16', False, 'simpson', 0.3277034262885491)\n",
      "('1e-16', False, 'romb', 2621440.0)\n",
      "('1e-17', False, 'quad', 0.32770342628854815)\n",
      "('1e-17', False, 'trapezoid', 0.3277034262875941)\n",
      "('1e-17', False, 'simpson', 0.3277034262885491)\n",
      "('1e-17', False, 'romb', 2621440.0)\n",
      "('1e-18', False, 'quad', 0.32770342628854815)\n",
      "('1e-18', False, 'trapezoid', 0.3277034262875941)\n",
      "('1e-18', False, 'simpson', 0.3277034262885491)\n",
      "('1e-18', False, 'romb', 2621440.0)\n"
     ]
    }
   ],
   "source": [
    "for acc in [1/x for x in (10**2, 10**9, 10**11, 10**12, 10**13, 10**14, 10**15, 10**16, 10**17, 10**18)]:\n",
    "    print(check_is_close('quad', methods['quad'](f, lhs, rhs)[0], CONST_REAL_ANSWER, accur=acc))\n",
    "    print(check_is_close('trapezoid', methods['trapezoid'](vectorize(f)(x_dist), x_dist), CONST_REAL_ANSWER, accur=acc))\n",
    "    print(check_is_close('simpson', methods['simpson'](vectorize(f)(x_dist), x_dist), CONST_REAL_ANSWER, accur=acc))\n",
    "    print(check_is_close('romb', methods['romb']((x_dist)), CONST_REAL_ANSWER, accur=acc))"
   ]
  }
 ],
 "metadata": {
  "kernelspec": {
   "display_name": "Python 3.9.12 ('env': venv)",
   "language": "python",
   "name": "python3"
  },
  "language_info": {
   "codemirror_mode": {
    "name": "ipython",
    "version": 3
   },
   "file_extension": ".py",
   "mimetype": "text/x-python",
   "name": "python",
   "nbconvert_exporter": "python",
   "pygments_lexer": "ipython3",
   "version": "3.10.5"
  },
  "orig_nbformat": 4,
  "vscode": {
   "interpreter": {
    "hash": "4b62256f77dd50a25fd76e284dc3ae8249ddb57b0b8fd0486c33ab0ae11f386c"
   }
  }
 },
 "nbformat": 4,
 "nbformat_minor": 2
}
